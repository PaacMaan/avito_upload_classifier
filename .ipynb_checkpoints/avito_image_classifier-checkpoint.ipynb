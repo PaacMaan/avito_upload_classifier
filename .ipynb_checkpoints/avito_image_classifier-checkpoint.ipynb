{
 "cells": [
  {
   "cell_type": "markdown",
   "metadata": {},
   "source": [
    "<div class=\"fluid-row\" id=\"section-header\">\n",
    "    <h2 class=\"title toc-ignore\">Master Data Science & Big Data - ENSIAS</h2>\n",
    "    <h4 class=\"author\"><em>pacman</em></h4>\n",
    "    <h4 class=\"date\"><em>Mai 17, 2018</em></h4>\n",
    "</div>\n",
    "<center>\n",
    "    <h1>\n",
    "        <u>Deep Learning in Computer Vision</u>\n",
    "    </h1>\n",
    "    <h4>Realized by : Ayoub RMIDI</h4>\n",
    "</center>\n",
    "<div class=\"fluid-row\" id=\"section-header\">\n",
    "    <h2 class=\"title toc-ignore\">Introduction</h2>\n",
    "    <p class=\"lead\">The business problem I will try to solve, is classifying images of published ads from Avito website, personally many times, by mistake when I am trying to upload pictures to sell a phone for example, I found my self putting it into laptops category which is not the case, so the idea is to adopt a Deep Learning model that can classify the uploaded images in the right class in real time based on Avito's data set that we will scrap to train our model.<br>\n",
    "In this notebook I will cover only 2 classes which are <b>phone</b> and <b>laptops</b> for simplicity, hence we can improve our model later by adding multiple classes. The following notebook would be presented as follow :\n",
    "    <ol class=\"lead\">\n",
    "        <li>Data Collection</li>\n",
    "        <li>Data Preprocessing</li>\n",
    "        <li>Data Exploration</li>\n",
    "        <li>Data Modeling</li>\n",
    "        <li>Model Deployment & Evaluation</li>\n",
    "    </ol>\n",
    "<p>\n",
    "</div>"
   ]
  },
  {
   "cell_type": "markdown",
   "metadata": {},
   "source": [
    "# 1. Data Collection"
   ]
  },
  {
   "cell_type": "markdown",
   "metadata": {},
   "source": [
    "<p class=\"lead\">The data we will work on is a set of images scrapped from Avito.ma for each category laptops and moto, the resulted folder will contain two sub directories called respectively \"laptop\" and \"phone\" and the size of downloaded images is 120x90, with 3 channels RGB for each one. Here is the following code doing the data scrapping.</p>"
   ]
  },
  {
   "cell_type": "code",
   "execution_count": 2,
   "metadata": {
    "collapsed": false
   },
   "outputs": [],
   "source": [
    "# we import needed libraries\n",
    "import tensorflow as tf\n",
    "from skimage import data\n",
    "import matplotlib.pyplot as plt\n",
    "import os, random, time, shutil, requests\n",
    "import pandas as pd\n",
    "import numpy as np\n",
    "from skimage import transform\n",
    "from matplotlib import pyplot\n",
    "from lxml import html\n",
    "\n",
    "from keras.models import Sequential\n",
    "from keras.layers import Conv2D\n",
    "from keras.layers import MaxPooling2D\n",
    "from keras.layers import GlobalAveragePooling2D\n",
    "from keras.layers import Dense\n",
    "tf.logging.set_verbosity(tf.logging.INFO)"
   ]
  },
  {
   "cell_type": "code",
   "execution_count": 2,
   "metadata": {
    "collapsed": true
   },
   "outputs": [],
   "source": [
    "def save_image(ad_name, file_name, item_link, download_path):\n",
    "    response = requests.Session().get(item_link, stream=True)\n",
    "\n",
    "    if response.status_code == 200:\n",
    "        with open(os.path.join(download_path, file_name), 'wb') as image_file:\n",
    "            for chunk in response.iter_content(1024):\n",
    "                image_file.write(chunk)"
   ]
  },
  {
   "cell_type": "code",
   "execution_count": 3,
   "metadata": {
    "collapsed": true
   },
   "outputs": [],
   "source": [
    "def scrape_images(url, path):\n",
    "    response = requests.Session().get(url).text\n",
    "    #print(response)\n",
    "    tree = html.fromstring(response)\n",
    "    for ad in tree.xpath('//div[contains(@class, \"item\") and contains(@class, \"li-hover\")]'):\n",
    "        if ad.xpath('.//img/@data-original'):\n",
    "            title = ad.findtext('.//h2/a')\n",
    "            image_url = ad.xpath('.//img/@data-original')[-1]\n",
    "            image_name = image_url.split('/')[-1]\n",
    "            save_image(title, image_name, image_url, path)   "
   ]
  },
  {
   "cell_type": "code",
   "execution_count": 5,
   "metadata": {
    "collapsed": false,
    "scrolled": true
   },
   "outputs": [
    {
     "name": "stdout",
     "output_type": "stream",
     "text": [
      "Starting data scrapping\n",
      "page  60 attended\n",
      "End scrapping images\n"
     ]
    }
   ],
   "source": [
    "basic_url = \"https://www.avito.ma/fr/casablanca/ordinateurs_portables-à_vendre?o=\"\n",
    "path = 'raw_data/laptop'\n",
    "print('Starting data scrapping')\n",
    "for i in range(0,70):\n",
    "    page_url = basic_url + str(i)\n",
    "    scrape_images(page_url, path=path)\n",
    "    if i%10 == 0:\n",
    "        print('page ',i,'attended')\n",
    "print('End scrapping images')"
   ]
  },
  {
   "cell_type": "code",
   "execution_count": 3,
   "metadata": {},
   "outputs": [
    {
     "name": "stdout",
     "output_type": "stream",
     "text": [
      "there are exactly 2097 images on laptop class.\n"
     ]
    }
   ],
   "source": [
    "number_of_laptop_images = len(os.listdir('raw_data/laptop'))\n",
    "print('there are exactly',number_of_laptop_images,'images on laptop class.')"
   ]
  },
  {
   "cell_type": "code",
   "execution_count": 4,
   "metadata": {
    "collapsed": false
   },
   "outputs": [
    {
     "name": "stdout",
     "output_type": "stream",
     "text": [
      "there are exactly 2180 images on phone class.\n"
     ]
    }
   ],
   "source": [
    "number_of_phone_images = len(os.listdir('raw_data/phone'))\n",
    "print('there are exactly',number_of_phone_images,'images on phone class.')"
   ]
  },
  {
   "cell_type": "markdown",
   "metadata": {},
   "source": [
    "<p class='lead'>At the end we will have a folder containing images of laptops which looks like this :</p>\n",
    "<img src=\"notebook_pics/laptops.png\">"
   ]
  },
  {
   "cell_type": "markdown",
   "metadata": {},
   "source": [
    "# 2. Data Preprocessing"
   ]
  },
  {
   "cell_type": "markdown",
   "metadata": {},
   "source": [
    "<p class='lead'>For the preprocessing task we will divide into two subtasks as follow :</p>\n",
    "<ol class='lead'>\n",
    "    <li>Remove noizy Data</li>\n",
    "    <li>Image resizing</li>\n",
    "</ol>"
   ]
  },
  {
   "cell_type": "markdown",
   "metadata": {},
   "source": [
    "## 2.1. Removing Noisy Data"
   ]
  },
  {
   "cell_type": "markdown",
   "metadata": {},
   "source": [
    "<p class='lead'>To remove noisy data, we have to check every image in the data set and delete those who will not help us to get a good accuracy, as an example we can find in the phone directory an image like this :</p>\n",
    "<img src='notebook_pics/8000532171.jpg' width='120' height='90'>\n",
    "<p class='lead'>which represent a phone's packet and not a real phone as we are lookig for, so I delete it.</p> "
   ]
  },
  {
   "cell_type": "markdown",
   "metadata": {},
   "source": [
    "## 2.2. Image resizing"
   ]
  },
  {
   "cell_type": "markdown",
   "metadata": {},
   "source": [
    "<p class=\"lead\">To fit the LeNet-5 [1] Model Architecture, we will have to resize images from 120x90 to 32x32 for each class, So we create a new folder where we will store our resulted data set by creating 2 subfolders called 0 and 1 which refer to <b>laptop</b>,  and <b>phone</b> respectively. The next section show a Snapshot of the code doing this task :</p> "
   ]
  },
  {
   "cell_type": "code",
   "execution_count": 12,
   "metadata": {
    "collapsed": true
   },
   "outputs": [],
   "source": [
    "from PIL import Image\n",
    "\n",
    "def resize_and_save(target_path, cible_path, dirs):\n",
    "    for item in dirs:\n",
    "        im = Image.open(cible_path+item)\n",
    "        file, extension = os.path.splitext(cible_path+item)\n",
    "        imResized = im.resize((64, 64), Image.ANTIALIAS)\n",
    "        filename = file.split('/')[2]\n",
    "        imResized.save(target_path + filename + extension, 'JPEG', quality=90)"
   ]
  },
  {
   "cell_type": "markdown",
   "metadata": {},
   "source": [
    "<p class='lead'>Now we call our built-in function for each target and cible directory.</p>"
   ]
  },
  {
   "cell_type": "code",
   "execution_count": 14,
   "metadata": {
    "collapsed": false
   },
   "outputs": [
    {
     "name": "stdout",
     "output_type": "stream",
     "text": [
      "Starting resizing images ...\n",
      "End images resizing.\n"
     ]
    }
   ],
   "source": [
    "# target_path list\n",
    "target_path = ['preprocessed_data/phone/', 'preprocessed_data/laptop/']\n",
    "original_path = ['raw_data/phone/', 'raw_data/laptop/']\n",
    "print('Starting resizing images ...')\n",
    "for t, c in zip(target_path, original_path):\n",
    "    dirs = os.listdir(c)\n",
    "    resize_and_save(t, c, dirs)\n",
    "    #print(t, c)\n",
    "print('End images resizing.')"
   ]
  },
  {
   "cell_type": "markdown",
   "metadata": {},
   "source": [
    "<table class=\"table table-bordered\">\n",
    "    <thead>\n",
    "      <tr>\n",
    "        <th>Before resizing (120x90)</th>\n",
    "        <th>After resizing (64x64)</th>\n",
    "      </tr>\n",
    "    </thead>\n",
    "    <tbody>\n",
    "      <tr>\n",
    "        <td><img src=\"raw_data/laptop/0005474607.jpg\"></td>\n",
    "        <td><img src=\"preprocessed_data/laptop/0005474607.jpg\"></td>\n",
    "      </tr>\n",
    "    </tbody>\n",
    "  </table>"
   ]
  },
  {
   "cell_type": "markdown",
   "metadata": {},
   "source": [
    "<h3>3. Data Exploration</h3>"
   ]
  },
  {
   "cell_type": "markdown",
   "metadata": {},
   "source": [
    "<p class='lead'>First of all we start by a simple histogram showing the distribution of images per class, to get an idea about the balancing of our data set.</p>"
   ]
  },
  {
   "cell_type": "code",
   "execution_count": 5,
   "metadata": {},
   "outputs": [],
   "source": [
    "classes = ['phone', 'laptop']\n",
    "values = [number_of_phone_images, number_of_laptop_images]\n",
    "ypos = np.arange(len(classes))"
   ]
  },
  {
   "cell_type": "code",
   "execution_count": 6,
   "metadata": {},
   "outputs": [
    {
     "data": {
      "image/png": "[encoded data removed]",
      "text/plain": [
       "<Figure size 648x576 with 1 Axes>"
      ]
     },
     "metadata": {},
     "output_type": "display_data"
    }
   ],
   "source": [
    "plt.figure(figsize=(9, 8))\n",
    "plt.xticks(ypos, classes)\n",
    "plt.ylabel('Frequency')\n",
    "plt.title('Images distribution over classes')\n",
    "plt.bar(ypos, values, color=['blue','orange'], width=0.75)\n",
    "plt.savefig('temp.png')\n",
    "#plt.show()"
   ]
  },
  {
   "cell_type": "markdown",
   "metadata": {},
   "source": [
    "<p class='lead'>As we can see from the plot above, the two classes are quite balanced, which is a mandatory step to build a high accurate Deep Learning Model, so that we won't get a class overriding another one.</p>"
   ]
  },
  {
   "cell_type": "markdown",
   "metadata": {},
   "source": [
    "## 3.1 Data Splitting"
   ]
  },
  {
   "cell_type": "markdown",
   "metadata": {},
   "source": [
    "<p class='lead'>After exploring the data set, we will start splitting it into training and test set. To perform this task we will split the preprocessed data set into 80% training and 20% for test, for each class.</p>"
   ]
  },
  {
   "cell_type": "code",
   "execution_count": 10,
   "metadata": {
    "collapsed": false
   },
   "outputs": [],
   "source": [
    "# we define how many items do we have per class\n",
    "class_size = [number_of_phone_images, number_of_laptop_images]"
   ]
  },
  {
   "cell_type": "code",
   "execution_count": 19,
   "metadata": {
    "collapsed": true
   },
   "outputs": [],
   "source": [
    "def move_training_files(which_class, origin_path, destination, ratio):\n",
    "    training_size = int(ratio * which_class)\n",
    "    files = os.listdir(origin_path)\n",
    "    training_data = files[:training_size]\n",
    "    for file in training_data:\n",
    "        shutil.move(origin_path + file, destination + file)"
   ]
  },
  {
   "cell_type": "code",
   "execution_count": 24,
   "metadata": {
    "collapsed": true
   },
   "outputs": [],
   "source": [
    "# we define lists of destination and target pathtu m\n",
    "destination_train_path = ['data/train/phone/', 'data/train/laptop/']\n",
    "destination_test_path = ['data/validation/phone/', 'data/validation/laptop/']"
   ]
  },
  {
   "cell_type": "markdown",
   "metadata": {},
   "source": [
    "### Copying Training data"
   ]
  },
  {
   "cell_type": "code",
   "execution_count": 25,
   "metadata": {
    "collapsed": false
   },
   "outputs": [
    {
     "name": "stdout",
     "output_type": "stream",
     "text": [
      "Start copying files to train folder ...\n",
      "End copying files.\n"
     ]
    }
   ],
   "source": [
    "print('Start copying files to train folder ...')\n",
    "for c, o, d in zip(class_size, target_path, destination_train_path):\n",
    "    move_training_files(c, o, d, 0.8)\n",
    "print('End copying files.')"
   ]
  },
  {
   "cell_type": "markdown",
   "metadata": {},
   "source": [
    "### Copying Validation data"
   ]
  },
  {
   "cell_type": "code",
   "execution_count": 26,
   "metadata": {
    "collapsed": false
   },
   "outputs": [
    {
     "name": "stdout",
     "output_type": "stream",
     "text": [
      "Start copying files to train folder ...\n",
      "End copying files.\n"
     ]
    }
   ],
   "source": [
    "print('Start copying files to train folder ...')\n",
    "for c, o, d in zip(class_size, target_path, destination_test_path):\n",
    "    move_training_files(c, o, d, 0.2)\n",
    "print('End copying files.')"
   ]
  },
  {
   "cell_type": "markdown",
   "metadata": {},
   "source": [
    "# 4. Data Modeling - Convolutional Neural Network"
   ]
  },
  {
   "cell_type": "code",
   "execution_count": 7,
   "metadata": {},
   "outputs": [],
   "source": [
    "from keras.layers import Flatten\n",
    "# Initialise CNN\n",
    "model = Sequential()\n",
    "\n",
    "# Add convolution layer\n",
    "model.add(Conv2D(32, (3, 3), input_shape = (64, 64, 3), activation = 'relu'))\n",
    "\n",
    "# Add max pooling layer\n",
    "model.add(MaxPooling2D(pool_size = (2, 2)))\n",
    "\n",
    "# Add a second convolution layer\n",
    "model.add(Conv2D(32, (3, 3), activation = 'relu'))\n",
    "\n",
    "# Add max pooling layer\n",
    "model.add(MaxPooling2D(pool_size = (2, 2)))\n",
    "\n",
    "# Flattening the output\n",
    "model.add(Flatten())\n",
    "\n",
    "# Add full connection\n",
    "model.add(Dense(units = 128, activation = 'relu'))\n",
    "model.add(Dense(units = 2, activation = 'sigmoid'))\n",
    " \n",
    "# Compiling the CNN\n",
    "model.compile(optimizer = 'adam', loss = 'binary_crossentropy', metrics = ['accuracy'] )"
   ]
  },
  {
   "cell_type": "markdown",
   "metadata": {},
   "source": [
    "## Model Summary"
   ]
  },
  {
   "cell_type": "code",
   "execution_count": 8,
   "metadata": {},
   "outputs": [
    {
     "name": "stdout",
     "output_type": "stream",
     "text": [
      "_________________________________________________________________\n",
      "Layer (type)                 Output Shape              Param #   \n",
      "=================================================================\n",
      "conv2d_1 (Conv2D)            (None, 62, 62, 32)        896       \n",
      "_________________________________________________________________\n",
      "max_pooling2d_1 (MaxPooling2 (None, 31, 31, 32)        0         \n",
      "_________________________________________________________________\n",
      "conv2d_2 (Conv2D)            (None, 29, 29, 32)        9248      \n",
      "_________________________________________________________________\n",
      "max_pooling2d_2 (MaxPooling2 (None, 14, 14, 32)        0         \n",
      "_________________________________________________________________\n",
      "flatten_1 (Flatten)          (None, 6272)              0         \n",
      "_________________________________________________________________\n",
      "dense_1 (Dense)              (None, 128)               802944    \n",
      "_________________________________________________________________\n",
      "dense_2 (Dense)              (None, 2)                 258       \n",
      "=================================================================\n",
      "Total params: 813,346\n",
      "Trainable params: 813,346\n",
      "Non-trainable params: 0\n",
      "_________________________________________________________________\n"
     ]
    }
   ],
   "source": [
    "model.summary()"
   ]
  },
  {
   "cell_type": "markdown",
   "metadata": {},
   "source": [
    "## Loading images and Data Transformation"
   ]
  },
  {
   "cell_type": "markdown",
   "metadata": {},
   "source": [
    "<p class='lead'>To feed images to our compiled model, we will have to `ImageDataGenerator` function, this will help us generate batches of tensor image data with real-time data augmentation. The data will be looped over (in batches).</p>"
   ]
  },
  {
   "cell_type": "code",
   "execution_count": 9,
   "metadata": {},
   "outputs": [],
   "source": [
    "from keras.preprocessing.image import ImageDataGenerator\n",
    "\n",
    "# Create an instance for training_data\n",
    "train_datagen = ImageDataGenerator(\n",
    "        rescale=1./255,\n",
    "        shear_range=0.2,\n",
    "        zoom_range=0.2,\n",
    "        horizontal_flip=True)\n",
    "\n",
    "# Create an instance for testing_data\n",
    "validation_datagen = ImageDataGenerator(rescale=1./255)"
   ]
  },
  {
   "cell_type": "markdown",
   "metadata": {},
   "source": [
    "<p class='lead'>Now that we have created, two instances of `ImageDataGenerator`, we need to feed them with the right path to both training and validation dataset, with a `categorical` class mode.</p>"
   ]
  },
  {
   "cell_type": "code",
   "execution_count": 10,
   "metadata": {},
   "outputs": [
    {
     "name": "stdout",
     "output_type": "stream",
     "text": [
      "Found 3421 images belonging to 2 classes.\n",
      "Found 855 images belonging to 2 classes.\n"
     ]
    }
   ],
   "source": [
    "train_set = train_datagen.flow_from_directory(\n",
    "        'data/train',\n",
    "        target_size=(64, 64),\n",
    "        batch_size=64,\n",
    "        class_mode='categorical')\n",
    "\n",
    "validation_set = validation_datagen.flow_from_directory(\n",
    "        'data/validation',\n",
    "        target_size=(64, 64),\n",
    "        batch_size=64,\n",
    "        class_mode='categorical')"
   ]
  },
  {
   "cell_type": "markdown",
   "metadata": {},
   "source": [
    "<p class='lead'>The last but not the least step is to make our built-in model fit the dataset, for this reason we feed it with the `train_set` and `validation_set` already created, and start the training session.<br>But before that we will set a callback to visualize the training evolution using TensorBoard.</p>"
   ]
  },
  {
   "cell_type": "code",
   "execution_count": 12,
   "metadata": {},
   "outputs": [],
   "source": [
    "from keras.callbacks import TensorBoard\n",
    "\n",
    "tensorboard = TensorBoard(log_dir='./tf-log', histogram_freq=0,\n",
    "                         write_graph=True, write_images=False )"
   ]
  },
  {
   "cell_type": "code",
   "execution_count": 22,
   "metadata": {},
   "outputs": [
    {
     "name": "stdout",
     "output_type": "stream",
     "text": [
      "Epoch 1/25\n",
      "100/100 [==============================] - 107s 1s/step - loss: 0.3987 - acc: 0.8140 - val_loss: 0.4216 - val_acc: 0.7982\n",
      "Epoch 2/25\n",
      "100/100 [==============================] - 108s 1s/step - loss: 0.3680 - acc: 0.8279 - val_loss: 0.4074 - val_acc: 0.8036\n",
      "Epoch 3/25\n",
      "100/100 [==============================] - 100s 1s/step - loss: 0.3404 - acc: 0.8417 - val_loss: 0.4365 - val_acc: 0.7923\n",
      "Epoch 4/25\n",
      "100/100 [==============================] - 102s 1s/step - loss: 0.3451 - acc: 0.8429 - val_loss: 0.3840 - val_acc: 0.8187\n",
      "Epoch 5/25\n",
      "100/100 [==============================] - 101s 1s/step - loss: 0.3320 - acc: 0.8524 - val_loss: 0.4020 - val_acc: 0.8182\n",
      "Epoch 6/25\n",
      "100/100 [==============================] - 102s 1s/step - loss: 0.3158 - acc: 0.8646 - val_loss: 0.3401 - val_acc: 0.8409\n",
      "Epoch 7/25\n",
      "100/100 [==============================] - 100s 1s/step - loss: 0.2881 - acc: 0.8705 - val_loss: 0.3499 - val_acc: 0.8579\n",
      "Epoch 8/25\n",
      "100/100 [==============================] - 105s 1s/step - loss: 0.2772 - acc: 0.8829 - val_loss: 0.4059 - val_acc: 0.8128\n",
      "Epoch 9/25\n",
      "100/100 [==============================] - 103s 1s/step - loss: 0.2752 - acc: 0.8764 - val_loss: 0.4128 - val_acc: 0.8112\n",
      "Epoch 10/25\n",
      "100/100 [==============================] - 105s 1s/step - loss: 0.2776 - acc: 0.8838 - val_loss: 0.3472 - val_acc: 0.8451\n",
      "Epoch 11/25\n",
      "100/100 [==============================] - 101s 1s/step - loss: 0.2543 - acc: 0.8953 - val_loss: 0.3871 - val_acc: 0.8182\n",
      "Epoch 12/25\n",
      "100/100 [==============================] - 104s 1s/step - loss: 0.2297 - acc: 0.9057 - val_loss: 0.3444 - val_acc: 0.8620\n",
      "Epoch 13/25\n",
      "100/100 [==============================] - 103s 1s/step - loss: 0.2267 - acc: 0.9035 - val_loss: 0.3017 - val_acc: 0.8760\n",
      "Epoch 14/25\n",
      "100/100 [==============================] - 107s 1s/step - loss: 0.2149 - acc: 0.9092 - val_loss: 0.3194 - val_acc: 0.8684\n",
      "Epoch 15/25\n",
      "100/100 [==============================] - 108s 1s/step - loss: 0.1993 - acc: 0.9208 - val_loss: 0.3295 - val_acc: 0.8579\n",
      "Epoch 16/25\n",
      "100/100 [==============================] - 104s 1s/step - loss: 0.2080 - acc: 0.9157 - val_loss: 0.3035 - val_acc: 0.8726\n",
      "Epoch 17/25\n",
      "100/100 [==============================] - 103s 1s/step - loss: 0.1899 - acc: 0.9270 - val_loss: 0.3184 - val_acc: 0.8608\n",
      "Epoch 18/25\n",
      "100/100 [==============================] - 103s 1s/step - loss: 0.1763 - acc: 0.9255 - val_loss: 0.3059 - val_acc: 0.8836\n",
      "Epoch 19/25\n",
      "100/100 [==============================] - 101s 1s/step - loss: 0.1800 - acc: 0.9275 - val_loss: 0.3126 - val_acc: 0.8790\n",
      "Epoch 20/25\n",
      "100/100 [==============================] - 100s 996ms/step - loss: 0.1604 - acc: 0.9374 - val_loss: 0.3327 - val_acc: 0.8702\n",
      "Epoch 21/25\n",
      "100/100 [==============================] - 99s 992ms/step - loss: 0.1331 - acc: 0.9468 - val_loss: 0.4014 - val_acc: 0.8778\n",
      "Epoch 22/25\n",
      "100/100 [==============================] - 99s 985ms/step - loss: 0.1548 - acc: 0.9343 - val_loss: 0.3240 - val_acc: 0.8761\n",
      "Epoch 23/25\n",
      "100/100 [==============================] - 100s 1s/step - loss: 0.1366 - acc: 0.9456 - val_loss: 0.3535 - val_acc: 0.8743\n",
      "Epoch 24/25\n",
      "100/100 [==============================] - 99s 991ms/step - loss: 0.1271 - acc: 0.9517 - val_loss: 0.4390 - val_acc: 0.8533\n",
      "Epoch 25/25\n",
      "100/100 [==============================] - 101s 1s/step - loss: 0.1313 - acc: 0.9477 - val_loss: 0.3522 - val_acc: 0.8772\n"
     ]
    },
    {
     "data": {
      "text/plain": [
       "<keras.callbacks.History at 0x7f734c713a20>"
      ]
     },
     "execution_count": 22,
     "metadata": {},
     "output_type": "execute_result"
    }
   ],
   "source": [
    "model.fit_generator(\n",
    "        train_set,\n",
    "        steps_per_epoch=100,\n",
    "        epochs=25,\n",
    "        validation_data=validation_set,\n",
    "        validation_steps=2000, callbacks = [TrainValTensorBoard(write_graph=True)])"
   ]
  },
  {
   "cell_type": "markdown",
   "metadata": {},
   "source": [
    "<p class=lead>Usually we build a test set apart from the validation where we evaluate our final trained model, but we will keep it simple and validate it only on the same validation set."
   ]
  },
  {
   "cell_type": "code",
   "execution_count": 23,
   "metadata": {},
   "outputs": [
    {
     "data": {
      "text/plain": [
       "[0.3527091883856247, 0.8772840283984867]"
      ]
     },
     "execution_count": 23,
     "metadata": {},
     "output_type": "execute_result"
    }
   ],
   "source": [
    "validation_sample_size = 800\n",
    "model.evaluate_generator(validation_set, validation_sample_size)"
   ]
  },
  {
   "cell_type": "markdown",
   "metadata": {},
   "source": [
    "<p class='lead'>As result we got a validation accuracy of 83.27% with a loss value of 0.37 which is kind of critical a bit, since it's still need to decrease.</p>"
   ]
  },
  {
   "cell_type": "markdown",
   "metadata": {},
   "source": [
    "## Saving Models"
   ]
  },
  {
   "cell_type": "code",
   "execution_count": 19,
   "metadata": {},
   "outputs": [],
   "source": [
    "# save models weights on hdf5 extension\n",
    "models_dir = 'models/'\n",
    "model.save(models_dir+'avito_model.h5')"
   ]
  },
  {
   "cell_type": "code",
   "execution_count": 20,
   "metadata": {},
   "outputs": [],
   "source": [
    "# serialize model to JSON\n",
    "model_json = model.to_json()\n",
    "with open(models_dir+'avito_model.json', 'w') as json_file:\n",
    "    json_file.write(model_json)"
   ]
  },
  {
   "cell_type": "markdown",
   "metadata": {},
   "source": [
    "## Test Model on some samples"
   ]
  },
  {
   "cell_type": "code",
   "execution_count": 21,
   "metadata": {},
   "outputs": [],
   "source": [
    "from keras.preprocessing.image import img_to_array\n",
    "from PIL import Image\n",
    "def preprocess_image(image,target_size):\n",
    "    if image.mode != \"RGB\":\n",
    "        image = image.convert(\"RGB\")\n",
    "    image = image.resize(target_size)\n",
    "    image = img_to_array(image)\n",
    "    image = np.expand_dims(image,axis = 0)\n",
    "    return image"
   ]
  },
  {
   "cell_type": "code",
   "execution_count": 22,
   "metadata": {},
   "outputs": [],
   "source": [
    "img = Image.open(\"5531569558.jpg\")"
   ]
  },
  {
   "cell_type": "code",
   "execution_count": 23,
   "metadata": {},
   "outputs": [
    {
     "data": {
      "image/png": "[encoded data removed]",
      "text/plain": [
       "<PIL.JpegImagePlugin.JpegImageFile image mode=RGB size=67x90 at 0x7F5BACE9E278>"
      ]
     },
     "execution_count": 23,
     "metadata": {},
     "output_type": "execute_result"
    }
   ],
   "source": [
    "img"
   ]
  },
  {
   "cell_type": "code",
   "execution_count": 24,
   "metadata": {},
   "outputs": [],
   "source": [
    "processed_image = preprocess_image(img,target_size = (64, 64))"
   ]
  },
  {
   "cell_type": "code",
   "execution_count": 25,
   "metadata": {},
   "outputs": [],
   "source": [
    "matrix = []\n",
    "matrix.append(processed_image)\n",
    "prediction = model.predict(matrix).tolist()"
   ]
  },
  {
   "cell_type": "code",
   "execution_count": 26,
   "metadata": {},
   "outputs": [
    {
     "data": {
      "text/plain": [
       "[[0.0, 1.0]]"
      ]
     },
     "execution_count": 26,
     "metadata": {},
     "output_type": "execute_result"
    }
   ],
   "source": [
    "prediction"
   ]
  },
  {
   "cell_type": "code",
   "execution_count": 27,
   "metadata": {},
   "outputs": [
    {
     "name": "stdout",
     "output_type": "stream",
     "text": [
      "Phone\n"
     ]
    }
   ],
   "source": [
    "if np.asscalar(np.argmax(prediction, axis=1)) == 0:\n",
    "    print('Laptop')\n",
    "else:\n",
    "    print('Phone')"
   ]
  },
  {
   "cell_type": "code",
   "execution_count": null,
   "metadata": {},
   "outputs": [],
   "source": []
  }
 ],
 "metadata": {
  "kernelspec": {
   "display_name": "Python 3",
   "language": "python",
   "name": "python3"
  },
  "language_info": {
   "codemirror_mode": {
    "name": "ipython",
    "version": 3
   },
   "file_extension": ".py",
   "mimetype": "text/x-python",
   "name": "python",
   "nbconvert_exporter": "python",
   "pygments_lexer": "ipython3",
   "version": "3.6.4"
  },
  "widgets": {
   "state": {},
   "version": "1.1.2"
  }
 },
 "nbformat": 4,
 "nbformat_minor": 2
}
